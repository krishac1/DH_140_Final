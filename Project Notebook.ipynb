{
 "cells": [
  {
   "cell_type": "markdown",
   "id": "6cf01c6a",
   "metadata": {},
   "source": [
    "# DH Final Project - Krisha Chokshi"
   ]
  },
  {
   "cell_type": "markdown",
   "id": "a6a6b242",
   "metadata": {},
   "source": [
    "## Introduction"
   ]
  },
  {
   "cell_type": "markdown",
   "id": "3642c50d",
   "metadata": {},
   "source": [
    "* Narrative description of data\n",
    "* Link to sources\n",
    "* Motivation for looking at the data\n",
    "* Questions that we are seeking to address"
   ]
  },
  {
   "cell_type": "markdown",
   "id": "a67a8e0e",
   "metadata": {},
   "source": [
    "## Information about Data"
   ]
  },
  {
   "cell_type": "markdown",
   "id": "d8334e5b",
   "metadata": {},
   "source": [
    "* Explores and presents information about data\n",
    "* Summary information about data, summary stats, identification of missing / incorrect / outlier data, and data processing\n",
    "* 4 exploratory data visualizations"
   ]
  },
  {
   "cell_type": "markdown",
   "id": "68efda0d",
   "metadata": {},
   "source": [
    "## Focused Analysis"
   ]
  },
  {
   "cell_type": "markdown",
   "id": "f95df754",
   "metadata": {},
   "source": [
    "* Code for data analysis directly relevant to questions of interest\n",
    "* Additional 4 data visualizations directly relevant to topic"
   ]
  },
  {
   "cell_type": "code",
   "execution_count": null,
   "id": "b59eca52",
   "metadata": {},
   "outputs": [],
   "source": []
  }
 ],
 "metadata": {
  "kernelspec": {
   "display_name": "Python 3 (ipykernel)",
   "language": "python",
   "name": "python3"
  },
  "language_info": {
   "codemirror_mode": {
    "name": "ipython",
    "version": 3
   },
   "file_extension": ".py",
   "mimetype": "text/x-python",
   "name": "python",
   "nbconvert_exporter": "python",
   "pygments_lexer": "ipython3",
   "version": "3.11.6"
  }
 },
 "nbformat": 4,
 "nbformat_minor": 5
}
